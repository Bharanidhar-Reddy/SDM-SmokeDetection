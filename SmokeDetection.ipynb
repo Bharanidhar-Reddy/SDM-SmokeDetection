{
 "cells": [
  {
   "cell_type": "markdown",
   "metadata": {},
   "source": [
    "# Predicting Fire alarm Trigger using Smoke Detection Dataset"
   ]
  },
  {
   "cell_type": "markdown",
   "metadata": {},
   "source": [
    "#### Importing Required libraries"
   ]
  },
  {
   "cell_type": "code",
   "execution_count": 541,
   "metadata": {},
   "outputs": [],
   "source": [
    "import pandas as pd\n",
    "import matplotlib.pyplot as plt\n",
    "import seaborn as sns\n",
    "import numpy as np\n",
    "\n",
    "from sklearn.linear_model import LogisticRegression\n",
    "from sklearn.model_selection import GridSearchCV\n",
    "from sklearn.model_selection import train_test_split\n",
    "from sklearn.neighbors import KNeighborsClassifier\n",
    "from sklearn.ensemble import RandomForestClassifier, AdaBoostClassifier, GradientBoostingClassifier\n",
    "from sklearn import tree\n",
    "from sklearn.tree import DecisionTreeClassifier\n",
    "from sklearn.ensemble import BaggingClassifier\n",
    "import sklearn.metrics as skm\n",
    "from sklearn import metrics\n",
    "from sklearn.metrics import classification_report, confusion_matrix\n",
    "from sklearn.preprocessing import MinMaxScaler\n",
    "\n",
    "#Ignore warnings\n",
    "import warnings\n",
    "warnings.simplefilter('ignore')\n",
    "\n",
    "#Formatting output data\n",
    "pd.set_option(\"display.max_columns\", None)\n",
    "pd.options.display.float_format = '{:.4f}'.format\n",
    "pd.set_option('display.max_colwidth', None)"
   ]
  },
  {
   "cell_type": "markdown",
   "metadata": {},
   "source": [
    "#### Data Exploration"
   ]
  },
  {
   "cell_type": "code",
   "execution_count": 542,
   "metadata": {},
   "outputs": [],
   "source": [
    "# Reading the file\n",
    "smoke = pd.read_csv('smokedata.csv')"
   ]
  },
  {
   "cell_type": "code",
   "execution_count": 543,
   "metadata": {},
   "outputs": [
    {
     "data": {
      "text/html": [
       "<div>\n",
       "<style scoped>\n",
       "    .dataframe tbody tr th:only-of-type {\n",
       "        vertical-align: middle;\n",
       "    }\n",
       "\n",
       "    .dataframe tbody tr th {\n",
       "        vertical-align: top;\n",
       "    }\n",
       "\n",
       "    .dataframe thead th {\n",
       "        text-align: right;\n",
       "    }\n",
       "</style>\n",
       "<table border=\"1\" class=\"dataframe\">\n",
       "  <thead>\n",
       "    <tr style=\"text-align: right;\">\n",
       "      <th></th>\n",
       "      <th>Unnamed: 0</th>\n",
       "      <th>UTC</th>\n",
       "      <th>Temperature[C]</th>\n",
       "      <th>Humidity[%]</th>\n",
       "      <th>TVOC[ppb]</th>\n",
       "      <th>eCO2[ppm]</th>\n",
       "      <th>Raw H2</th>\n",
       "      <th>Raw Ethanol</th>\n",
       "      <th>Pressure[hPa]</th>\n",
       "      <th>PM1.0</th>\n",
       "      <th>PM2.5</th>\n",
       "      <th>NC0.5</th>\n",
       "      <th>NC1.0</th>\n",
       "      <th>NC2.5</th>\n",
       "      <th>CNT</th>\n",
       "      <th>Fire Alarm</th>\n",
       "    </tr>\n",
       "  </thead>\n",
       "  <tbody>\n",
       "    <tr>\n",
       "      <th>0</th>\n",
       "      <td>0</td>\n",
       "      <td>1654733331</td>\n",
       "      <td>20.0000</td>\n",
       "      <td>57.3600</td>\n",
       "      <td>0</td>\n",
       "      <td>400</td>\n",
       "      <td>12306</td>\n",
       "      <td>18520</td>\n",
       "      <td>939.7350</td>\n",
       "      <td>0.0000</td>\n",
       "      <td>0.0000</td>\n",
       "      <td>0.0000</td>\n",
       "      <td>0.0000</td>\n",
       "      <td>0.0000</td>\n",
       "      <td>0</td>\n",
       "      <td>0</td>\n",
       "    </tr>\n",
       "    <tr>\n",
       "      <th>1</th>\n",
       "      <td>1</td>\n",
       "      <td>1654733332</td>\n",
       "      <td>20.0150</td>\n",
       "      <td>56.6700</td>\n",
       "      <td>0</td>\n",
       "      <td>400</td>\n",
       "      <td>12345</td>\n",
       "      <td>18651</td>\n",
       "      <td>939.7440</td>\n",
       "      <td>0.0000</td>\n",
       "      <td>0.0000</td>\n",
       "      <td>0.0000</td>\n",
       "      <td>0.0000</td>\n",
       "      <td>0.0000</td>\n",
       "      <td>1</td>\n",
       "      <td>0</td>\n",
       "    </tr>\n",
       "    <tr>\n",
       "      <th>2</th>\n",
       "      <td>2</td>\n",
       "      <td>1654733333</td>\n",
       "      <td>20.0290</td>\n",
       "      <td>55.9600</td>\n",
       "      <td>0</td>\n",
       "      <td>400</td>\n",
       "      <td>12374</td>\n",
       "      <td>18764</td>\n",
       "      <td>939.7380</td>\n",
       "      <td>0.0000</td>\n",
       "      <td>0.0000</td>\n",
       "      <td>0.0000</td>\n",
       "      <td>0.0000</td>\n",
       "      <td>0.0000</td>\n",
       "      <td>2</td>\n",
       "      <td>0</td>\n",
       "    </tr>\n",
       "    <tr>\n",
       "      <th>3</th>\n",
       "      <td>3</td>\n",
       "      <td>1654733334</td>\n",
       "      <td>20.0440</td>\n",
       "      <td>55.2800</td>\n",
       "      <td>0</td>\n",
       "      <td>400</td>\n",
       "      <td>12390</td>\n",
       "      <td>18849</td>\n",
       "      <td>939.7360</td>\n",
       "      <td>0.0000</td>\n",
       "      <td>0.0000</td>\n",
       "      <td>0.0000</td>\n",
       "      <td>0.0000</td>\n",
       "      <td>0.0000</td>\n",
       "      <td>3</td>\n",
       "      <td>0</td>\n",
       "    </tr>\n",
       "    <tr>\n",
       "      <th>4</th>\n",
       "      <td>4</td>\n",
       "      <td>1654733335</td>\n",
       "      <td>20.0590</td>\n",
       "      <td>54.6900</td>\n",
       "      <td>0</td>\n",
       "      <td>400</td>\n",
       "      <td>12403</td>\n",
       "      <td>18921</td>\n",
       "      <td>939.7440</td>\n",
       "      <td>0.0000</td>\n",
       "      <td>0.0000</td>\n",
       "      <td>0.0000</td>\n",
       "      <td>0.0000</td>\n",
       "      <td>0.0000</td>\n",
       "      <td>4</td>\n",
       "      <td>0</td>\n",
       "    </tr>\n",
       "  </tbody>\n",
       "</table>\n",
       "</div>"
      ],
      "text/plain": [
       "   Unnamed: 0         UTC  Temperature[C]  Humidity[%]  TVOC[ppb]  eCO2[ppm]  \\\n",
       "0           0  1654733331         20.0000      57.3600          0        400   \n",
       "1           1  1654733332         20.0150      56.6700          0        400   \n",
       "2           2  1654733333         20.0290      55.9600          0        400   \n",
       "3           3  1654733334         20.0440      55.2800          0        400   \n",
       "4           4  1654733335         20.0590      54.6900          0        400   \n",
       "\n",
       "   Raw H2  Raw Ethanol  Pressure[hPa]  PM1.0  PM2.5  NC0.5  NC1.0  NC2.5  CNT  \\\n",
       "0   12306        18520       939.7350 0.0000 0.0000 0.0000 0.0000 0.0000    0   \n",
       "1   12345        18651       939.7440 0.0000 0.0000 0.0000 0.0000 0.0000    1   \n",
       "2   12374        18764       939.7380 0.0000 0.0000 0.0000 0.0000 0.0000    2   \n",
       "3   12390        18849       939.7360 0.0000 0.0000 0.0000 0.0000 0.0000    3   \n",
       "4   12403        18921       939.7440 0.0000 0.0000 0.0000 0.0000 0.0000    4   \n",
       "\n",
       "   Fire Alarm  \n",
       "0           0  \n",
       "1           0  \n",
       "2           0  \n",
       "3           0  \n",
       "4           0  "
      ]
     },
     "execution_count": 543,
     "metadata": {},
     "output_type": "execute_result"
    }
   ],
   "source": [
    "# Previewing the data\n",
    "smoke.head()"
   ]
  },
  {
   "cell_type": "code",
   "execution_count": 544,
   "metadata": {},
   "outputs": [
    {
     "data": {
      "text/plain": [
       "(62630, 16)"
      ]
     },
     "execution_count": 544,
     "metadata": {},
     "output_type": "execute_result"
    }
   ],
   "source": [
    "# Number of varaibles and Observations\n",
    "smoke.shape"
   ]
  },
  {
   "cell_type": "code",
   "execution_count": 545,
   "metadata": {},
   "outputs": [
    {
     "name": "stdout",
     "output_type": "stream",
     "text": [
      "<class 'pandas.core.frame.DataFrame'>\n",
      "RangeIndex: 62630 entries, 0 to 62629\n",
      "Data columns (total 16 columns):\n",
      " #   Column          Non-Null Count  Dtype  \n",
      "---  ------          --------------  -----  \n",
      " 0   Unnamed: 0      62630 non-null  int64  \n",
      " 1   UTC             62630 non-null  int64  \n",
      " 2   Temperature[C]  62630 non-null  float64\n",
      " 3   Humidity[%]     62630 non-null  float64\n",
      " 4   TVOC[ppb]       62630 non-null  int64  \n",
      " 5   eCO2[ppm]       62630 non-null  int64  \n",
      " 6   Raw H2          62630 non-null  int64  \n",
      " 7   Raw Ethanol     62630 non-null  int64  \n",
      " 8   Pressure[hPa]   62630 non-null  float64\n",
      " 9   PM1.0           62630 non-null  float64\n",
      " 10  PM2.5           62630 non-null  float64\n",
      " 11  NC0.5           62630 non-null  float64\n",
      " 12  NC1.0           62630 non-null  float64\n",
      " 13  NC2.5           62630 non-null  float64\n",
      " 14  CNT             62630 non-null  int64  \n",
      " 15  Fire Alarm      62630 non-null  int64  \n",
      "dtypes: float64(8), int64(8)\n",
      "memory usage: 7.6 MB\n"
     ]
    }
   ],
   "source": [
    "# Structure of the data\n",
    "smoke.info()"
   ]
  },
  {
   "cell_type": "code",
   "execution_count": 546,
   "metadata": {},
   "outputs": [
    {
     "data": {
      "text/plain": [
       "Unnamed: 0        0\n",
       "UTC               0\n",
       "Temperature[C]    0\n",
       "Humidity[%]       0\n",
       "TVOC[ppb]         0\n",
       "eCO2[ppm]         0\n",
       "Raw H2            0\n",
       "Raw Ethanol       0\n",
       "Pressure[hPa]     0\n",
       "PM1.0             0\n",
       "PM2.5             0\n",
       "NC0.5             0\n",
       "NC1.0             0\n",
       "NC2.5             0\n",
       "CNT               0\n",
       "Fire Alarm        0\n",
       "dtype: int64"
      ]
     },
     "execution_count": 546,
     "metadata": {},
     "output_type": "execute_result"
    }
   ],
   "source": [
    "# Checking for null values in the data\n",
    "smoke.isna().sum()"
   ]
  },
  {
   "cell_type": "code",
   "execution_count": 547,
   "metadata": {},
   "outputs": [
    {
     "data": {
      "text/html": [
       "<div>\n",
       "<style scoped>\n",
       "    .dataframe tbody tr th:only-of-type {\n",
       "        vertical-align: middle;\n",
       "    }\n",
       "\n",
       "    .dataframe tbody tr th {\n",
       "        vertical-align: top;\n",
       "    }\n",
       "\n",
       "    .dataframe thead th {\n",
       "        text-align: right;\n",
       "    }\n",
       "</style>\n",
       "<table border=\"1\" class=\"dataframe\">\n",
       "  <thead>\n",
       "    <tr style=\"text-align: right;\">\n",
       "      <th></th>\n",
       "      <th>Unnamed: 0</th>\n",
       "      <th>UTC</th>\n",
       "      <th>Temperature[C]</th>\n",
       "      <th>Humidity[%]</th>\n",
       "      <th>TVOC[ppb]</th>\n",
       "      <th>eCO2[ppm]</th>\n",
       "      <th>Raw H2</th>\n",
       "      <th>Raw Ethanol</th>\n",
       "      <th>Pressure[hPa]</th>\n",
       "      <th>PM1.0</th>\n",
       "      <th>PM2.5</th>\n",
       "      <th>NC0.5</th>\n",
       "      <th>NC1.0</th>\n",
       "      <th>NC2.5</th>\n",
       "      <th>CNT</th>\n",
       "      <th>Fire Alarm</th>\n",
       "    </tr>\n",
       "  </thead>\n",
       "  <tbody>\n",
       "    <tr>\n",
       "      <th>count</th>\n",
       "      <td>62630.0000</td>\n",
       "      <td>62630.0000</td>\n",
       "      <td>62630.0000</td>\n",
       "      <td>62630.0000</td>\n",
       "      <td>62630.0000</td>\n",
       "      <td>62630.0000</td>\n",
       "      <td>62630.0000</td>\n",
       "      <td>62630.0000</td>\n",
       "      <td>62630.0000</td>\n",
       "      <td>62630.0000</td>\n",
       "      <td>62630.0000</td>\n",
       "      <td>62630.0000</td>\n",
       "      <td>62630.0000</td>\n",
       "      <td>62630.0000</td>\n",
       "      <td>62630.0000</td>\n",
       "      <td>62630.0000</td>\n",
       "    </tr>\n",
       "    <tr>\n",
       "      <th>mean</th>\n",
       "      <td>31314.5000</td>\n",
       "      <td>1654792066.1843</td>\n",
       "      <td>15.9704</td>\n",
       "      <td>48.5395</td>\n",
       "      <td>1942.0575</td>\n",
       "      <td>670.0210</td>\n",
       "      <td>12942.4539</td>\n",
       "      <td>19754.2579</td>\n",
       "      <td>938.6276</td>\n",
       "      <td>100.5943</td>\n",
       "      <td>184.4678</td>\n",
       "      <td>491.4636</td>\n",
       "      <td>203.5865</td>\n",
       "      <td>80.0490</td>\n",
       "      <td>10511.3862</td>\n",
       "      <td>0.7146</td>\n",
       "    </tr>\n",
       "    <tr>\n",
       "      <th>std</th>\n",
       "      <td>18079.8680</td>\n",
       "      <td>110002.4881</td>\n",
       "      <td>14.3596</td>\n",
       "      <td>8.8654</td>\n",
       "      <td>7811.5891</td>\n",
       "      <td>1905.8854</td>\n",
       "      <td>272.4643</td>\n",
       "      <td>609.5132</td>\n",
       "      <td>1.3313</td>\n",
       "      <td>922.5242</td>\n",
       "      <td>1976.3056</td>\n",
       "      <td>4265.6613</td>\n",
       "      <td>2214.7386</td>\n",
       "      <td>1083.3832</td>\n",
       "      <td>7597.8710</td>\n",
       "      <td>0.4516</td>\n",
       "    </tr>\n",
       "    <tr>\n",
       "      <th>min</th>\n",
       "      <td>0.0000</td>\n",
       "      <td>1654712187.0000</td>\n",
       "      <td>-22.0100</td>\n",
       "      <td>10.7400</td>\n",
       "      <td>0.0000</td>\n",
       "      <td>400.0000</td>\n",
       "      <td>10668.0000</td>\n",
       "      <td>15317.0000</td>\n",
       "      <td>930.8520</td>\n",
       "      <td>0.0000</td>\n",
       "      <td>0.0000</td>\n",
       "      <td>0.0000</td>\n",
       "      <td>0.0000</td>\n",
       "      <td>0.0000</td>\n",
       "      <td>0.0000</td>\n",
       "      <td>0.0000</td>\n",
       "    </tr>\n",
       "    <tr>\n",
       "      <th>25%</th>\n",
       "      <td>15657.2500</td>\n",
       "      <td>1654743244.2500</td>\n",
       "      <td>10.9943</td>\n",
       "      <td>47.5300</td>\n",
       "      <td>130.0000</td>\n",
       "      <td>400.0000</td>\n",
       "      <td>12830.0000</td>\n",
       "      <td>19435.0000</td>\n",
       "      <td>938.7000</td>\n",
       "      <td>1.2800</td>\n",
       "      <td>1.3400</td>\n",
       "      <td>8.8200</td>\n",
       "      <td>1.3840</td>\n",
       "      <td>0.0330</td>\n",
       "      <td>3625.2500</td>\n",
       "      <td>0.0000</td>\n",
       "    </tr>\n",
       "    <tr>\n",
       "      <th>50%</th>\n",
       "      <td>31314.5000</td>\n",
       "      <td>1654761919.5000</td>\n",
       "      <td>20.1300</td>\n",
       "      <td>50.1500</td>\n",
       "      <td>981.0000</td>\n",
       "      <td>400.0000</td>\n",
       "      <td>12924.0000</td>\n",
       "      <td>19501.0000</td>\n",
       "      <td>938.8160</td>\n",
       "      <td>1.8100</td>\n",
       "      <td>1.8800</td>\n",
       "      <td>12.4500</td>\n",
       "      <td>1.9430</td>\n",
       "      <td>0.0440</td>\n",
       "      <td>9336.0000</td>\n",
       "      <td>1.0000</td>\n",
       "    </tr>\n",
       "    <tr>\n",
       "      <th>75%</th>\n",
       "      <td>46971.7500</td>\n",
       "      <td>1654777576.7500</td>\n",
       "      <td>25.4095</td>\n",
       "      <td>53.2400</td>\n",
       "      <td>1189.0000</td>\n",
       "      <td>438.0000</td>\n",
       "      <td>13109.0000</td>\n",
       "      <td>20078.0000</td>\n",
       "      <td>939.4180</td>\n",
       "      <td>2.0900</td>\n",
       "      <td>2.1800</td>\n",
       "      <td>14.4200</td>\n",
       "      <td>2.2490</td>\n",
       "      <td>0.0510</td>\n",
       "      <td>17164.7500</td>\n",
       "      <td>1.0000</td>\n",
       "    </tr>\n",
       "    <tr>\n",
       "      <th>max</th>\n",
       "      <td>62629.0000</td>\n",
       "      <td>1655130051.0000</td>\n",
       "      <td>59.9300</td>\n",
       "      <td>75.2000</td>\n",
       "      <td>60000.0000</td>\n",
       "      <td>60000.0000</td>\n",
       "      <td>13803.0000</td>\n",
       "      <td>21410.0000</td>\n",
       "      <td>939.8610</td>\n",
       "      <td>14333.6900</td>\n",
       "      <td>45432.2600</td>\n",
       "      <td>61482.0300</td>\n",
       "      <td>51914.6800</td>\n",
       "      <td>30026.4380</td>\n",
       "      <td>24993.0000</td>\n",
       "      <td>1.0000</td>\n",
       "    </tr>\n",
       "  </tbody>\n",
       "</table>\n",
       "</div>"
      ],
      "text/plain": [
       "       Unnamed: 0             UTC  Temperature[C]  Humidity[%]  TVOC[ppb]  \\\n",
       "count  62630.0000      62630.0000      62630.0000   62630.0000 62630.0000   \n",
       "mean   31314.5000 1654792066.1843         15.9704      48.5395  1942.0575   \n",
       "std    18079.8680     110002.4881         14.3596       8.8654  7811.5891   \n",
       "min        0.0000 1654712187.0000        -22.0100      10.7400     0.0000   \n",
       "25%    15657.2500 1654743244.2500         10.9943      47.5300   130.0000   \n",
       "50%    31314.5000 1654761919.5000         20.1300      50.1500   981.0000   \n",
       "75%    46971.7500 1654777576.7500         25.4095      53.2400  1189.0000   \n",
       "max    62629.0000 1655130051.0000         59.9300      75.2000 60000.0000   \n",
       "\n",
       "       eCO2[ppm]     Raw H2  Raw Ethanol  Pressure[hPa]      PM1.0      PM2.5  \\\n",
       "count 62630.0000 62630.0000   62630.0000     62630.0000 62630.0000 62630.0000   \n",
       "mean    670.0210 12942.4539   19754.2579       938.6276   100.5943   184.4678   \n",
       "std    1905.8854   272.4643     609.5132         1.3313   922.5242  1976.3056   \n",
       "min     400.0000 10668.0000   15317.0000       930.8520     0.0000     0.0000   \n",
       "25%     400.0000 12830.0000   19435.0000       938.7000     1.2800     1.3400   \n",
       "50%     400.0000 12924.0000   19501.0000       938.8160     1.8100     1.8800   \n",
       "75%     438.0000 13109.0000   20078.0000       939.4180     2.0900     2.1800   \n",
       "max   60000.0000 13803.0000   21410.0000       939.8610 14333.6900 45432.2600   \n",
       "\n",
       "           NC0.5      NC1.0      NC2.5        CNT  Fire Alarm  \n",
       "count 62630.0000 62630.0000 62630.0000 62630.0000  62630.0000  \n",
       "mean    491.4636   203.5865    80.0490 10511.3862      0.7146  \n",
       "std    4265.6613  2214.7386  1083.3832  7597.8710      0.4516  \n",
       "min       0.0000     0.0000     0.0000     0.0000      0.0000  \n",
       "25%       8.8200     1.3840     0.0330  3625.2500      0.0000  \n",
       "50%      12.4500     1.9430     0.0440  9336.0000      1.0000  \n",
       "75%      14.4200     2.2490     0.0510 17164.7500      1.0000  \n",
       "max   61482.0300 51914.6800 30026.4380 24993.0000      1.0000  "
      ]
     },
     "execution_count": 547,
     "metadata": {},
     "output_type": "execute_result"
    }
   ],
   "source": [
    "smoke.describe()"
   ]
  },
  {
   "cell_type": "code",
   "execution_count": 548,
   "metadata": {},
   "outputs": [
    {
     "data": {
      "text/plain": [
       "False    62630\n",
       "dtype: int64"
      ]
     },
     "execution_count": 548,
     "metadata": {},
     "output_type": "execute_result"
    }
   ],
   "source": [
    "#Checking duplicate rows\n",
    "smoke.duplicated().value_counts()"
   ]
  },
  {
   "cell_type": "markdown",
   "metadata": {},
   "source": [
    "There 62630 observations  with 16 variables . All columns are either Int or Float . There are no null values in  the data and there are no duplicate records as well .   \n",
    "\n",
    "\n",
    "There are some columns which we can drop in the data . \n",
    "* UTC - This column tells us the time which data point is recorded , which has no effect on the response variable\n",
    "* Unnamed: 0 , CNT - These are index columns , so we can remove these as well  \n",
    "\n",
    "\n",
    "Temperature, PM , NC values are on different scales . We need to scale the data when we are modelling"
   ]
  },
  {
   "cell_type": "code",
   "execution_count": 549,
   "metadata": {},
   "outputs": [],
   "source": [
    "smoke.drop('Unnamed: 0',axis=1,inplace=True)\n",
    "smoke.drop('CNT',axis=1,inplace=True)\n",
    "smoke.drop('UTC',axis=1,inplace=True)"
   ]
  },
  {
   "cell_type": "markdown",
   "metadata": {},
   "source": [
    " #### Exploratory Data Analysis"
   ]
  },
  {
   "cell_type": "code",
   "execution_count": 550,
   "metadata": {},
   "outputs": [
    {
     "data": {
      "text/plain": [
       "1    44757\n",
       "0    17873\n",
       "Name: Fire Alarm, dtype: int64"
      ]
     },
     "execution_count": 550,
     "metadata": {},
     "output_type": "execute_result"
    }
   ],
   "source": [
    "smoke['Fire Alarm'].value_counts()"
   ]
  },
  {
   "cell_type": "code",
   "execution_count": 601,
   "metadata": {},
   "outputs": [
    {
     "data": {
      "text/plain": [
       "<AxesSubplot:xlabel='Fire Alarm', ylabel='Count'>"
      ]
     },
     "execution_count": 601,
     "metadata": {},
     "output_type": "execute_result"
    },
    {
     "data": {
      "image/png": "[encoded data removed]",
      "text/plain": [
       "<Figure size 432x288 with 1 Axes>"
      ]
     },
     "metadata": {},
     "output_type": "display_data"
    }
   ],
   "source": [
    "sns.set_style(\"darkgrid\")\n",
    "sns.histplot(smoke['Fire Alarm'])"
   ]
  },
  {
   "cell_type": "markdown",
   "metadata": {},
   "source": [
    "In the data , there are 44k observations where a fire alarm is trigerred and 18k observations where it does not . "
   ]
  },
  {
   "cell_type": "code",
   "execution_count": 551,
   "metadata": {},
   "outputs": [
    {
     "data": {
      "image/png": "[encoded data removed]",
      "text/plain": [
       "<Figure size 864x576 with 1 Axes>"
      ]
     },
     "metadata": {
      "needs_background": "light"
     },
     "output_type": "display_data"
    }
   ],
   "source": [
    "# Cheking the correlation of predictors with response varible\n",
    "plt.figure(figsize=(12,8))\n",
    "corr_response = smoke.corr()[\"Fire Alarm\"].sort_values(ascending=False)\n",
    "indices = corr_response.index\n",
    "labels = []\n",
    "corr = []\n",
    "for i in range(1, len(indices)):\n",
    "    labels.append(indices[i])\n",
    "    corr.append(corr_response[i])\n",
    "sns.barplot(x=corr, y=labels, palette='mako')\n",
    "plt.title('Correlation coefficient between different features and Fire Alarm ')\n",
    "plt.show()"
   ]
  },
  {
   "cell_type": "markdown",
   "metadata": {},
   "source": [
    "Humidity and Pressure are having high positive correalation with the response . Raw Ethanol and TVOC are having high negative correaltion"
   ]
  },
  {
   "cell_type": "code",
   "execution_count": 552,
   "metadata": {},
   "outputs": [
    {
     "data": {
      "image/png": "[encoded data removed]",
      "text/plain": [
       "<Figure size 1080x720 with 2 Axes>"
      ]
     },
     "metadata": {
      "needs_background": "light"
     },
     "output_type": "display_data"
    }
   ],
   "source": [
    "# Correlation Matrix\n",
    "plt.figure(figsize = (15,10))\n",
    "corr_all = smoke.corr()\n",
    "cormatrix = sns.heatmap(corr_all, annot=True, cmap='GnBu')\n",
    "cormatrix.set_title('Correlation Matrix')\n",
    "plt.show()"
   ]
  },
  {
   "cell_type": "markdown",
   "metadata": {},
   "source": [
    "From the Correlation matrix we could see all PM and NC values are very highly correlated . Humidity and Pressure are moderately correlated as well."
   ]
  },
  {
   "cell_type": "markdown",
   "metadata": {},
   "source": [
    "#### Modelling"
   ]
  },
  {
   "cell_type": "code",
   "execution_count": 553,
   "metadata": {},
   "outputs": [],
   "source": [
    "# Funtion for plotting confusion matrix\n",
    "def pcm(y_test, y_pred, model_name):\n",
    "    cm = confusion_matrix(y_test, y_pred)\n",
    "    conf_matrix = pd.DataFrame(data = cm, \n",
    "                               columns = ['Predicted: No Alarm', 'Predicted: Alarm'], \n",
    "                               index = ['Actual: No Alarm', 'Actual: Alarm'])\n",
    "    sns.heatmap(conf_matrix, annot = True, cbar = False, fmt = 'd',cmap='GnBu')\n",
    "    plt.xticks()\n",
    "    plt.yticks()\n",
    "    plt.title(model_name + \" Confusion Matrix\")\n",
    "    plt.show()"
   ]
  },
  {
   "cell_type": "code",
   "execution_count": 622,
   "metadata": {},
   "outputs": [],
   "source": [
    "## Function to store scores of different models\n",
    "scores = pd.DataFrame(columns = ['Model', 'Accuracy Score', 'NoAlarm Accuracy', 'Alarm Accuracy', 'Complexity Parameter'])\n",
    "index_iter = iter(range(1, 10))\n",
    "def storescore(y_test, y_pred, model_name,cp):\n",
    "    global scores\n",
    "    cm=confusion_matrix(y_test, y_pred)\n",
    "#     print(cm)\n",
    "    new_score = pd.DataFrame({'Model': model_name,\n",
    "                              'Accuracy Score':metrics.accuracy_score(y_test, y_pred),\n",
    "                              'NoAlarm Accuracy': round(cm[0][0]/(cm[0][0]+cm[0][1]),5), \n",
    "                              'Alarm Accuracy': round(cm[1][1]/(cm[1][0]+cm[1][1]),5),\n",
    "                              'Complexity Parameter': cp}, \n",
    "                             index = [next(index_iter)])\n",
    "    scores = pd.concat([scores, new_score])\n",
    "    return scores"
   ]
  },
  {
   "cell_type": "code",
   "execution_count": 555,
   "metadata": {},
   "outputs": [],
   "source": [
    "y = smoke['Fire Alarm']\n",
    "x = smoke.drop('Fire Alarm', axis = 1)"
   ]
  },
  {
   "cell_type": "code",
   "execution_count": 556,
   "metadata": {},
   "outputs": [
    {
     "data": {
      "text/plain": [
       "((46972, 12), (15658, 12), (46972,), (15658,))"
      ]
     },
     "execution_count": 556,
     "metadata": {},
     "output_type": "execute_result"
    }
   ],
   "source": [
    "# Splitting the data into training and testing . Here we are dividing 75% of data into training and remaining as testing\n",
    "xtrain, xtest, ytrain, ytest = train_test_split(x, y, test_size = 0.25, random_state = 420)\n",
    "xtrain.shape, xtest.shape, ytrain.shape, ytest.shape"
   ]
  },
  {
   "cell_type": "markdown",
   "metadata": {},
   "source": [
    "#### Scaling the data"
   ]
  },
  {
   "cell_type": "code",
   "execution_count": 557,
   "metadata": {},
   "outputs": [],
   "source": [
    "scaler = MinMaxScaler()\n",
    "xtrain = scaler.fit_transform(xtrain)\n",
    "xtest = scaler.fit_transform(xtest)"
   ]
  },
  {
   "cell_type": "markdown",
   "metadata": {},
   "source": [
    "#### Logistic Regression"
   ]
  },
  {
   "cell_type": "code",
   "execution_count": 558,
   "metadata": {},
   "outputs": [
    {
     "data": {
      "text/plain": [
       "GridSearchCV(estimator=LogisticRegression(random_state=420),\n",
       "             param_grid={'max_iter': [1, 5, 10, 50, 100, 500]},\n",
       "             scoring='accuracy')"
      ]
     },
     "execution_count": 558,
     "metadata": {},
     "output_type": "execute_result"
    }
   ],
   "source": [
    "params={'max_iter':[1,5,10,50,100,500]}\n",
    "smokelog = LogisticRegression(random_state=420)\n",
    "loggridcv = GridSearchCV(smokelog,param_grid= params,scoring='accuracy')\n",
    "loggridcv.fit(xtrain, ytrain)"
   ]
  },
  {
   "cell_type": "code",
   "execution_count": 559,
   "metadata": {},
   "outputs": [
    {
     "name": "stdout",
     "output_type": "stream",
     "text": [
      "Train accuracy :0.89592\n",
      "Test accuracy :0.89475\n"
     ]
    }
   ],
   "source": [
    "# Predicting the test dataset\n",
    "yhatlog = loggridcv.predict(xtest)\n",
    "print(\"Train accuracy :{:.5f}\".format(skm.accuracy_score(ytrain, loggridcv.predict(xtrain))))\n",
    "print(\"Test accuracy :{:.5f}\".format(skm.accuracy_score(ytest, yhatlog)))"
   ]
  },
  {
   "cell_type": "code",
   "execution_count": 560,
   "metadata": {},
   "outputs": [
    {
     "data": {
      "image/png": "[encoded data removed]",
      "text/plain": [
       "<Figure size 432x288 with 1 Axes>"
      ]
     },
     "metadata": {
      "needs_background": "light"
     },
     "output_type": "display_data"
    }
   ],
   "source": [
    "pcm(ytest, yhatlog, 'Logistic Regression')"
   ]
  },
  {
   "cell_type": "code",
   "execution_count": 623,
   "metadata": {},
   "outputs": [
    {
     "data": {
      "text/html": [
       "<div>\n",
       "<style scoped>\n",
       "    .dataframe tbody tr th:only-of-type {\n",
       "        vertical-align: middle;\n",
       "    }\n",
       "\n",
       "    .dataframe tbody tr th {\n",
       "        vertical-align: top;\n",
       "    }\n",
       "\n",
       "    .dataframe thead th {\n",
       "        text-align: right;\n",
       "    }\n",
       "</style>\n",
       "<table border=\"1\" class=\"dataframe\">\n",
       "  <thead>\n",
       "    <tr style=\"text-align: right;\">\n",
       "      <th></th>\n",
       "      <th>Model</th>\n",
       "      <th>Accuracy Score</th>\n",
       "      <th>NoAlarm Accuracy</th>\n",
       "      <th>Alarm Accuracy</th>\n",
       "      <th>Complexity Parameter</th>\n",
       "    </tr>\n",
       "  </thead>\n",
       "  <tbody>\n",
       "    <tr>\n",
       "      <th>1</th>\n",
       "      <td>Logistic Regression</td>\n",
       "      <td>0.8948</td>\n",
       "      <td>0.7646</td>\n",
       "      <td>0.9471</td>\n",
       "      <td></td>\n",
       "    </tr>\n",
       "  </tbody>\n",
       "</table>\n",
       "</div>"
      ],
      "text/plain": [
       "                 Model  Accuracy Score  NoAlarm Accuracy  Alarm Accuracy  \\\n",
       "1  Logistic Regression          0.8948            0.7646          0.9471   \n",
       "\n",
       "  Complexity Parameter  \n",
       "1                       "
      ]
     },
     "execution_count": 623,
     "metadata": {},
     "output_type": "execute_result"
    }
   ],
   "source": [
    "storescore(ytest,yhatlog,'Logistic Regression','')"
   ]
  },
  {
   "cell_type": "markdown",
   "metadata": {},
   "source": [
    "#### KNN"
   ]
  },
  {
   "cell_type": "code",
   "execution_count": 609,
   "metadata": {},
   "outputs": [
    {
     "data": {
      "text/plain": [
       "GridSearchCV(estimator=KNeighborsClassifier(),\n",
       "             param_grid={'n_neighbors': [1, 3, 5, 7, 9, 15]},\n",
       "             scoring='accuracy')"
      ]
     },
     "execution_count": 609,
     "metadata": {},
     "output_type": "execute_result"
    }
   ],
   "source": [
    "smokeknn = KNeighborsClassifier()\n",
    "params={'n_neighbors':[1,3,5,7,9,15]}\n",
    "knngridcv = GridSearchCV(smokeknn,param_grid= params,scoring='accuracy')\n",
    "knngridcv.fit(xtrain, ytrain)"
   ]
  },
  {
   "cell_type": "code",
   "execution_count": 610,
   "metadata": {},
   "outputs": [
    {
     "data": {
      "text/plain": [
       "'K = 1'"
      ]
     },
     "execution_count": 610,
     "metadata": {},
     "output_type": "execute_result"
    }
   ],
   "source": [
    "knngridcv.best_params_\n",
    "cp = 'K = ' + str(knngridcv.best_params_['n_neighbors'])\n",
    "cp"
   ]
  },
  {
   "cell_type": "code",
   "execution_count": 611,
   "metadata": {},
   "outputs": [
    {
     "name": "stdout",
     "output_type": "stream",
     "text": [
      "Train accuracy :1.00000\n",
      "Test accuracy :0.99866\n"
     ]
    }
   ],
   "source": [
    "# Predicting the test dataset\n",
    "yhatknn = knngridcv.predict(xtest)\n",
    "print(\"Train accuracy :{:.5f}\".format(skm.accuracy_score(ytrain, knngridcv.predict(xtrain))))\n",
    "print(\"Test accuracy :{:.5f}\".format(skm.accuracy_score(ytest, yhatknn)))"
   ]
  },
  {
   "cell_type": "code",
   "execution_count": 612,
   "metadata": {},
   "outputs": [
    {
     "data": {
      "image/png": "[encoded data removed]",
      "text/plain": [
       "<Figure size 432x288 with 1 Axes>"
      ]
     },
     "metadata": {},
     "output_type": "display_data"
    }
   ],
   "source": [
    "pcm(ytest, yhatknn, 'KNN')"
   ]
  },
  {
   "cell_type": "code",
   "execution_count": 624,
   "metadata": {},
   "outputs": [
    {
     "data": {
      "text/html": [
       "<div>\n",
       "<style scoped>\n",
       "    .dataframe tbody tr th:only-of-type {\n",
       "        vertical-align: middle;\n",
       "    }\n",
       "\n",
       "    .dataframe tbody tr th {\n",
       "        vertical-align: top;\n",
       "    }\n",
       "\n",
       "    .dataframe thead th {\n",
       "        text-align: right;\n",
       "    }\n",
       "</style>\n",
       "<table border=\"1\" class=\"dataframe\">\n",
       "  <thead>\n",
       "    <tr style=\"text-align: right;\">\n",
       "      <th></th>\n",
       "      <th>Model</th>\n",
       "      <th>Accuracy Score</th>\n",
       "      <th>NoAlarm Accuracy</th>\n",
       "      <th>Alarm Accuracy</th>\n",
       "      <th>Complexity Parameter</th>\n",
       "    </tr>\n",
       "  </thead>\n",
       "  <tbody>\n",
       "    <tr>\n",
       "      <th>1</th>\n",
       "      <td>Logistic Regression</td>\n",
       "      <td>0.8948</td>\n",
       "      <td>0.7646</td>\n",
       "      <td>0.9471</td>\n",
       "      <td></td>\n",
       "    </tr>\n",
       "    <tr>\n",
       "      <th>2</th>\n",
       "      <td>KNN</td>\n",
       "      <td>0.9987</td>\n",
       "      <td>0.9962</td>\n",
       "      <td>0.9996</td>\n",
       "      <td>K = 1</td>\n",
       "    </tr>\n",
       "  </tbody>\n",
       "</table>\n",
       "</div>"
      ],
      "text/plain": [
       "                 Model  Accuracy Score  NoAlarm Accuracy  Alarm Accuracy  \\\n",
       "1  Logistic Regression          0.8948            0.7646          0.9471   \n",
       "2                  KNN          0.9987            0.9962          0.9996   \n",
       "\n",
       "  Complexity Parameter  \n",
       "1                       \n",
       "2                K = 1  "
      ]
     },
     "execution_count": 624,
     "metadata": {},
     "output_type": "execute_result"
    }
   ],
   "source": [
    "storescore(ytest,yhatknn,'KNN',cp)"
   ]
  },
  {
   "cell_type": "markdown",
   "metadata": {},
   "source": [
    "#### Decision Tree"
   ]
  },
  {
   "cell_type": "code",
   "execution_count": 567,
   "metadata": {},
   "outputs": [
    {
     "data": {
      "text/plain": [
       "Text(0.5, 1.0, 'Total Impurity vs effective alpha for training set')"
      ]
     },
     "execution_count": 567,
     "metadata": {},
     "output_type": "execute_result"
    },
    {
     "data": {
      "image/png": "[encoded data removed]",
      "text/plain": [
       "<Figure size 432x288 with 1 Axes>"
      ]
     },
     "metadata": {
      "needs_background": "light"
     },
     "output_type": "display_data"
    }
   ],
   "source": [
    "# Getting the best cost complexity parameter\n",
    "smokedt = DecisionTreeClassifier(random_state=420)\n",
    "path = smokepdt.cost_complexity_pruning_path(xtrain, ytrain)\n",
    "ccp_alphas, impurities = path.ccp_alphas, path.impurities\n",
    "fig, ax = plt.subplots()\n",
    "ax.plot(ccp_alphas[:-1], impurities[:-1], marker=\"o\")\n",
    "ax.set_xlabel(\"effective alpha\")\n",
    "ax.set_ylabel(\"total impurity of leaves\")\n",
    "ax.set_title(\"Total Impurity vs effective alpha for training set\")"
   ]
  },
  {
   "cell_type": "code",
   "execution_count": 568,
   "metadata": {
    "scrolled": true
   },
   "outputs": [
    {
     "data": {
      "image/png": "[encoded data removed]",
      "text/plain": [
       "<Figure size 432x288 with 1 Axes>"
      ]
     },
     "metadata": {
      "needs_background": "light"
     },
     "output_type": "display_data"
    }
   ],
   "source": [
    "clfs = []\n",
    "# Getting train and test errors for different alpha\n",
    "for ccp_alpha in ccp_alphas:\n",
    "    clf = DecisionTreeClassifier(random_state=0, ccp_alpha=ccp_alpha)\n",
    "    clf.fit(xtrain, ytrain)\n",
    "    clfs.append(clf)\n",
    "clfs = clfs[:-1]\n",
    "ccp_alphas = ccp_alphas[:-1]\n",
    "\n",
    "train_scores = [clf.score(xtrain, ytrain) for clf in clfs]\n",
    "test_scores = [clf.score(xtest, ytest) for clf in clfs]\n",
    "\n",
    "fig, ax = plt.subplots()\n",
    "ax.set_xlabel(\"alpha\")\n",
    "ax.set_ylabel(\"accuracy\")\n",
    "ax.set_title(\"Accuracy vs alpha for training and testing sets\")\n",
    "ax.plot(ccp_alphas, train_scores, marker=\"o\", label=\"train\", drawstyle=\"steps-post\")\n",
    "ax.plot(ccp_alphas, test_scores, marker=\"o\", label=\"test\", drawstyle=\"steps-post\")\n",
    "ax.legend()\n",
    "plt.show()"
   ]
  },
  {
   "cell_type": "markdown",
   "metadata": {},
   "source": [
    "We can see the best accuracy for both train and test sets when Cost Complexity parameter is 0 "
   ]
  },
  {
   "cell_type": "code",
   "execution_count": 569,
   "metadata": {},
   "outputs": [
    {
     "data": {
      "text/plain": [
       "GridSearchCV(estimator=DecisionTreeClassifier(random_state=420),\n",
       "             param_grid=[{'ccp_alpha': [0.0]}], scoring='accuracy')"
      ]
     },
     "execution_count": 569,
     "metadata": {},
     "output_type": "execute_result"
    }
   ],
   "source": [
    "smokedt=DecisionTreeClassifier(random_state=420)\n",
    "params = [{'ccp_alpha':[0.0]}]\n",
    "dtgridcv = GridSearchCV(smokedt,param_grid=params, scoring = 'accuracy')\n",
    "dtgridcv.fit(xtrain, ytrain)"
   ]
  },
  {
   "cell_type": "code",
   "execution_count": 570,
   "metadata": {},
   "outputs": [
    {
     "data": {
      "text/plain": [
       "'ccp_alpha = 0.0'"
      ]
     },
     "execution_count": 570,
     "metadata": {},
     "output_type": "execute_result"
    }
   ],
   "source": [
    "dtgridcv.best_params_\n",
    "bp = 'ccp_alpha = ' + str(dtgridcv.best_params_['ccp_alpha'])\n",
    "bp"
   ]
  },
  {
   "cell_type": "code",
   "execution_count": 571,
   "metadata": {},
   "outputs": [
    {
     "name": "stdout",
     "output_type": "stream",
     "text": [
      "Train accuracy :1.00000\n",
      "Test accuracy :0.99943\n"
     ]
    }
   ],
   "source": [
    "# Predicting the test dataset\n",
    "yhatdt = dtgridcv.predict(xtest)\n",
    "print(\"Train accuracy :{:.5f}\".format(skm.accuracy_score(ytrain, dtgridcv.predict(xtrain))))\n",
    "print(\"Test accuracy :{:.5f}\".format(skm.accuracy_score(ytest, yhatdt)))"
   ]
  },
  {
   "cell_type": "code",
   "execution_count": 572,
   "metadata": {},
   "outputs": [
    {
     "data": {
      "image/png": "[encoded data removed]",
      "text/plain": [
       "<Figure size 432x288 with 1 Axes>"
      ]
     },
     "metadata": {
      "needs_background": "light"
     },
     "output_type": "display_data"
    }
   ],
   "source": [
    "pcm(ytest, yhatdt, 'Decision Tree')"
   ]
  },
  {
   "cell_type": "code",
   "execution_count": 625,
   "metadata": {},
   "outputs": [
    {
     "data": {
      "text/html": [
       "<div>\n",
       "<style scoped>\n",
       "    .dataframe tbody tr th:only-of-type {\n",
       "        vertical-align: middle;\n",
       "    }\n",
       "\n",
       "    .dataframe tbody tr th {\n",
       "        vertical-align: top;\n",
       "    }\n",
       "\n",
       "    .dataframe thead th {\n",
       "        text-align: right;\n",
       "    }\n",
       "</style>\n",
       "<table border=\"1\" class=\"dataframe\">\n",
       "  <thead>\n",
       "    <tr style=\"text-align: right;\">\n",
       "      <th></th>\n",
       "      <th>Model</th>\n",
       "      <th>Accuracy Score</th>\n",
       "      <th>NoAlarm Accuracy</th>\n",
       "      <th>Alarm Accuracy</th>\n",
       "      <th>Complexity Parameter</th>\n",
       "    </tr>\n",
       "  </thead>\n",
       "  <tbody>\n",
       "    <tr>\n",
       "      <th>1</th>\n",
       "      <td>Logistic Regression</td>\n",
       "      <td>0.8948</td>\n",
       "      <td>0.7646</td>\n",
       "      <td>0.9471</td>\n",
       "      <td></td>\n",
       "    </tr>\n",
       "    <tr>\n",
       "      <th>2</th>\n",
       "      <td>KNN</td>\n",
       "      <td>0.9987</td>\n",
       "      <td>0.9962</td>\n",
       "      <td>0.9996</td>\n",
       "      <td>K = 1</td>\n",
       "    </tr>\n",
       "    <tr>\n",
       "      <th>3</th>\n",
       "      <td>Decision Tree</td>\n",
       "      <td>0.9994</td>\n",
       "      <td>0.9984</td>\n",
       "      <td>0.9998</td>\n",
       "      <td></td>\n",
       "    </tr>\n",
       "  </tbody>\n",
       "</table>\n",
       "</div>"
      ],
      "text/plain": [
       "                 Model  Accuracy Score  NoAlarm Accuracy  Alarm Accuracy  \\\n",
       "1  Logistic Regression          0.8948            0.7646          0.9471   \n",
       "2                  KNN          0.9987            0.9962          0.9996   \n",
       "3        Decision Tree          0.9994            0.9984          0.9998   \n",
       "\n",
       "  Complexity Parameter  \n",
       "1                       \n",
       "2                K = 1  \n",
       "3                       "
      ]
     },
     "execution_count": 625,
     "metadata": {},
     "output_type": "execute_result"
    }
   ],
   "source": [
    "storescore(ytest,yhatdt,'Decision Tree','')"
   ]
  },
  {
   "cell_type": "markdown",
   "metadata": {},
   "source": [
    "#### Random Forest"
   ]
  },
  {
   "cell_type": "code",
   "execution_count": 574,
   "metadata": {},
   "outputs": [
    {
     "data": {
      "text/plain": [
       "GridSearchCV(estimator=RandomForestClassifier(oob_score=True, random_state=420),\n",
       "             param_grid=[{'criterion': ['gini'], 'max_depth': [8, 10, 12],\n",
       "                          'n_estimators': [80, 100]}],\n",
       "             scoring='accuracy')"
      ]
     },
     "execution_count": 574,
     "metadata": {},
     "output_type": "execute_result"
    }
   ],
   "source": [
    "smokerf = RandomForestClassifier(oob_score = True, random_state = 420)\n",
    "params = [{'n_estimators': [80,100], \n",
    "                         'criterion': ['gini'], \n",
    "                         'max_depth': [8,10,12]}]\n",
    "rfgridcv = GridSearchCV(smokerf,param_grid=params, scoring = 'accuracy')\n",
    "rfgridcv.fit(xtrain, ytrain)"
   ]
  },
  {
   "cell_type": "code",
   "execution_count": 575,
   "metadata": {},
   "outputs": [
    {
     "data": {
      "text/plain": [
       "'Criterion = gini, max_depth = 12, n_estimators = 80'"
      ]
     },
     "execution_count": 575,
     "metadata": {},
     "output_type": "execute_result"
    }
   ],
   "source": [
    "rfgridcv.best_params_\n",
    "bp = 'Criterion = ' + str(rfgridcv.best_params_['criterion']) + ', max_depth = ' \\\n",
    "+ str(rfgridcv.best_params_['max_depth']) + ', n_estimators = ' + str(rfgridcv.best_params_['n_estimators'])\n",
    "bp"
   ]
  },
  {
   "cell_type": "code",
   "execution_count": 576,
   "metadata": {},
   "outputs": [
    {
     "name": "stdout",
     "output_type": "stream",
     "text": [
      "Train accuracy :1.00000\n",
      "Test accuracy :0.99866\n"
     ]
    }
   ],
   "source": [
    "# Predicting the test dataset\n",
    "yhatrf = rfgridcv.predict(xtest)\n",
    "print(\"Train accuracy :{:.5f}\".format(skm.accuracy_score(ytrain, rfgridcv.predict(xtrain))))\n",
    "print(\"Test accuracy :{:.5f}\".format(skm.accuracy_score(ytest, yhatknn)))"
   ]
  },
  {
   "cell_type": "code",
   "execution_count": 577,
   "metadata": {},
   "outputs": [
    {
     "data": {
      "image/png": "[encoded data removed]",
      "text/plain": [
       "<Figure size 432x288 with 1 Axes>"
      ]
     },
     "metadata": {
      "needs_background": "light"
     },
     "output_type": "display_data"
    }
   ],
   "source": [
    "pcm(ytest, yhatrf, 'Random Forest')"
   ]
  },
  {
   "cell_type": "code",
   "execution_count": 626,
   "metadata": {},
   "outputs": [
    {
     "data": {
      "text/html": [
       "<div>\n",
       "<style scoped>\n",
       "    .dataframe tbody tr th:only-of-type {\n",
       "        vertical-align: middle;\n",
       "    }\n",
       "\n",
       "    .dataframe tbody tr th {\n",
       "        vertical-align: top;\n",
       "    }\n",
       "\n",
       "    .dataframe thead th {\n",
       "        text-align: right;\n",
       "    }\n",
       "</style>\n",
       "<table border=\"1\" class=\"dataframe\">\n",
       "  <thead>\n",
       "    <tr style=\"text-align: right;\">\n",
       "      <th></th>\n",
       "      <th>Model</th>\n",
       "      <th>Accuracy Score</th>\n",
       "      <th>NoAlarm Accuracy</th>\n",
       "      <th>Alarm Accuracy</th>\n",
       "      <th>Complexity Parameter</th>\n",
       "    </tr>\n",
       "  </thead>\n",
       "  <tbody>\n",
       "    <tr>\n",
       "      <th>1</th>\n",
       "      <td>Logistic Regression</td>\n",
       "      <td>0.8948</td>\n",
       "      <td>0.7646</td>\n",
       "      <td>0.9471</td>\n",
       "      <td></td>\n",
       "    </tr>\n",
       "    <tr>\n",
       "      <th>2</th>\n",
       "      <td>KNN</td>\n",
       "      <td>0.9987</td>\n",
       "      <td>0.9962</td>\n",
       "      <td>0.9996</td>\n",
       "      <td>K = 1</td>\n",
       "    </tr>\n",
       "    <tr>\n",
       "      <th>3</th>\n",
       "      <td>Decision Tree</td>\n",
       "      <td>0.9994</td>\n",
       "      <td>0.9984</td>\n",
       "      <td>0.9998</td>\n",
       "      <td></td>\n",
       "    </tr>\n",
       "    <tr>\n",
       "      <th>4</th>\n",
       "      <td>Random Forest</td>\n",
       "      <td>0.9997</td>\n",
       "      <td>0.9989</td>\n",
       "      <td>1.0000</td>\n",
       "      <td></td>\n",
       "    </tr>\n",
       "  </tbody>\n",
       "</table>\n",
       "</div>"
      ],
      "text/plain": [
       "                 Model  Accuracy Score  NoAlarm Accuracy  Alarm Accuracy  \\\n",
       "1  Logistic Regression          0.8948            0.7646          0.9471   \n",
       "2                  KNN          0.9987            0.9962          0.9996   \n",
       "3        Decision Tree          0.9994            0.9984          0.9998   \n",
       "4        Random Forest          0.9997            0.9989          1.0000   \n",
       "\n",
       "  Complexity Parameter  \n",
       "1                       \n",
       "2                K = 1  \n",
       "3                       \n",
       "4                       "
      ]
     },
     "execution_count": 626,
     "metadata": {},
     "output_type": "execute_result"
    }
   ],
   "source": [
    "storescore(ytest,yhatrf,'Random Forest','')"
   ]
  },
  {
   "cell_type": "markdown",
   "metadata": {},
   "source": [
    "#### ADA Boost"
   ]
  },
  {
   "cell_type": "code",
   "execution_count": 585,
   "metadata": {},
   "outputs": [
    {
     "data": {
      "text/plain": [
       "GridSearchCV(estimator=AdaBoostClassifier(random_state=420),\n",
       "             param_grid=[{'learning_rate': [1, 1.5],\n",
       "                          'n_estimators': [80, 100]}],\n",
       "             scoring='accuracy')"
      ]
     },
     "execution_count": 585,
     "metadata": {},
     "output_type": "execute_result"
    }
   ],
   "source": [
    "smokeadb = AdaBoostClassifier(random_state = 420)\n",
    "params = [{'n_estimators': [80,100], \n",
    "                         'learning_rate': [1,1.5]}]\n",
    "adbgridcv = GridSearchCV(smokeadb,param_grid=params, scoring = 'accuracy')\n",
    "adbgridcv.fit(xtrain, ytrain)"
   ]
  },
  {
   "cell_type": "code",
   "execution_count": 586,
   "metadata": {},
   "outputs": [
    {
     "data": {
      "text/plain": [
       "'n_estimators = 80, learning_rate = 1.5'"
      ]
     },
     "execution_count": 586,
     "metadata": {},
     "output_type": "execute_result"
    }
   ],
   "source": [
    "adbgridcv.best_params_\n",
    "bp = 'n_estimators = ' + str(adbgridcv.best_params_['n_estimators']) + ', learning_rate = ' + str(adbgridcv.best_params_['learning_rate'])\n",
    "bp"
   ]
  },
  {
   "cell_type": "code",
   "execution_count": 587,
   "metadata": {},
   "outputs": [
    {
     "name": "stdout",
     "output_type": "stream",
     "text": [
      "Train accuracy :1.00000\n",
      "Test accuracy :0.99943\n"
     ]
    }
   ],
   "source": [
    "# Predicting the test dataset\n",
    "yhatadb = adbgridcv.predict(xtest)\n",
    "print(\"Train accuracy :{:.5f}\".format(skm.accuracy_score(ytrain, adbgridcv.predict(xtrain))))\n",
    "print(\"Test accuracy :{:.5f}\".format(skm.accuracy_score(ytest, yhatadb)))"
   ]
  },
  {
   "cell_type": "code",
   "execution_count": 588,
   "metadata": {},
   "outputs": [
    {
     "data": {
      "image/png": "[encoded data removed]",
      "text/plain": [
       "<Figure size 432x288 with 1 Axes>"
      ]
     },
     "metadata": {
      "needs_background": "light"
     },
     "output_type": "display_data"
    }
   ],
   "source": [
    "pcm(ytest, yhatadb, 'ADA Boost')"
   ]
  },
  {
   "cell_type": "code",
   "execution_count": 627,
   "metadata": {},
   "outputs": [
    {
     "data": {
      "text/html": [
       "<div>\n",
       "<style scoped>\n",
       "    .dataframe tbody tr th:only-of-type {\n",
       "        vertical-align: middle;\n",
       "    }\n",
       "\n",
       "    .dataframe tbody tr th {\n",
       "        vertical-align: top;\n",
       "    }\n",
       "\n",
       "    .dataframe thead th {\n",
       "        text-align: right;\n",
       "    }\n",
       "</style>\n",
       "<table border=\"1\" class=\"dataframe\">\n",
       "  <thead>\n",
       "    <tr style=\"text-align: right;\">\n",
       "      <th></th>\n",
       "      <th>Model</th>\n",
       "      <th>Accuracy Score</th>\n",
       "      <th>NoAlarm Accuracy</th>\n",
       "      <th>Alarm Accuracy</th>\n",
       "      <th>Complexity Parameter</th>\n",
       "    </tr>\n",
       "  </thead>\n",
       "  <tbody>\n",
       "    <tr>\n",
       "      <th>1</th>\n",
       "      <td>Logistic Regression</td>\n",
       "      <td>0.8948</td>\n",
       "      <td>0.7646</td>\n",
       "      <td>0.9471</td>\n",
       "      <td></td>\n",
       "    </tr>\n",
       "    <tr>\n",
       "      <th>2</th>\n",
       "      <td>KNN</td>\n",
       "      <td>0.9987</td>\n",
       "      <td>0.9962</td>\n",
       "      <td>0.9996</td>\n",
       "      <td>K = 1</td>\n",
       "    </tr>\n",
       "    <tr>\n",
       "      <th>3</th>\n",
       "      <td>Decision Tree</td>\n",
       "      <td>0.9994</td>\n",
       "      <td>0.9984</td>\n",
       "      <td>0.9998</td>\n",
       "      <td></td>\n",
       "    </tr>\n",
       "    <tr>\n",
       "      <th>4</th>\n",
       "      <td>Random Forest</td>\n",
       "      <td>0.9997</td>\n",
       "      <td>0.9989</td>\n",
       "      <td>1.0000</td>\n",
       "      <td></td>\n",
       "    </tr>\n",
       "    <tr>\n",
       "      <th>5</th>\n",
       "      <td>ADA Boost</td>\n",
       "      <td>0.9994</td>\n",
       "      <td>0.9982</td>\n",
       "      <td>0.9999</td>\n",
       "      <td></td>\n",
       "    </tr>\n",
       "  </tbody>\n",
       "</table>\n",
       "</div>"
      ],
      "text/plain": [
       "                 Model  Accuracy Score  NoAlarm Accuracy  Alarm Accuracy  \\\n",
       "1  Logistic Regression          0.8948            0.7646          0.9471   \n",
       "2                  KNN          0.9987            0.9962          0.9996   \n",
       "3        Decision Tree          0.9994            0.9984          0.9998   \n",
       "4        Random Forest          0.9997            0.9989          1.0000   \n",
       "5            ADA Boost          0.9994            0.9982          0.9999   \n",
       "\n",
       "  Complexity Parameter  \n",
       "1                       \n",
       "2                K = 1  \n",
       "3                       \n",
       "4                       \n",
       "5                       "
      ]
     },
     "execution_count": 627,
     "metadata": {},
     "output_type": "execute_result"
    }
   ],
   "source": [
    "storescore(ytest,yhatadb,'ADA Boost','')"
   ]
  },
  {
   "cell_type": "markdown",
   "metadata": {},
   "source": [
    "#### Gradient Boost"
   ]
  },
  {
   "cell_type": "code",
   "execution_count": 599,
   "metadata": {},
   "outputs": [
    {
     "data": {
      "text/plain": [
       "GridSearchCV(estimator=GradientBoostingClassifier(random_state=420),\n",
       "             param_grid=[{'learning_rate': [0.1, 0.5, 0.7],\n",
       "                          'n_estimators': [100, 120]}],\n",
       "             scoring='accuracy')"
      ]
     },
     "execution_count": 599,
     "metadata": {},
     "output_type": "execute_result"
    }
   ],
   "source": [
    "smokegb = GradientBoostingClassifier(random_state = 420)\n",
    "params = [{'n_estimators': [100,120], \n",
    "                         'learning_rate': [0.1,0.5,0.7]}]\n",
    "gbgridcv = GridSearchCV(smokegb,param_grid=params, scoring = 'accuracy')\n",
    "gbgridcv.fit(xtrain, ytrain)"
   ]
  },
  {
   "cell_type": "code",
   "execution_count": 600,
   "metadata": {},
   "outputs": [
    {
     "data": {
      "text/plain": [
       "'n_estimators = 120, learning_rate = 0.5'"
      ]
     },
     "execution_count": 600,
     "metadata": {},
     "output_type": "execute_result"
    }
   ],
   "source": [
    "gbgridcv.best_params_\n",
    "bp = 'n_estimators = ' + str(gbgridcv.best_params_['n_estimators']) + ', learning_rate = ' + str(gbgridcv.best_params_['learning_rate'])\n",
    "bp"
   ]
  },
  {
   "cell_type": "code",
   "execution_count": 597,
   "metadata": {},
   "outputs": [
    {
     "name": "stdout",
     "output_type": "stream",
     "text": [
      "Train accuracy :1.00000\n",
      "Test accuracy :0.99974\n"
     ]
    }
   ],
   "source": [
    "# Predicting the test dataset\n",
    "yhatgb = gbgridcv.predict(xtest)\n",
    "print(\"Train accuracy :{:.5f}\".format(skm.accuracy_score(ytrain, gbgridcv.predict(xtrain))))\n",
    "print(\"Test accuracy :{:.5f}\".format(skm.accuracy_score(ytest, yhatgb)))"
   ]
  },
  {
   "cell_type": "code",
   "execution_count": 598,
   "metadata": {},
   "outputs": [
    {
     "data": {
      "image/png": "[encoded data removed]",
      "text/plain": [
       "<Figure size 432x288 with 1 Axes>"
      ]
     },
     "metadata": {
      "needs_background": "light"
     },
     "output_type": "display_data"
    }
   ],
   "source": [
    "pcm(ytest, yhatgb, 'Gradient Boost')"
   ]
  },
  {
   "cell_type": "code",
   "execution_count": 628,
   "metadata": {},
   "outputs": [
    {
     "data": {
      "text/html": [
       "<div>\n",
       "<style scoped>\n",
       "    .dataframe tbody tr th:only-of-type {\n",
       "        vertical-align: middle;\n",
       "    }\n",
       "\n",
       "    .dataframe tbody tr th {\n",
       "        vertical-align: top;\n",
       "    }\n",
       "\n",
       "    .dataframe thead th {\n",
       "        text-align: right;\n",
       "    }\n",
       "</style>\n",
       "<table border=\"1\" class=\"dataframe\">\n",
       "  <thead>\n",
       "    <tr style=\"text-align: right;\">\n",
       "      <th></th>\n",
       "      <th>Model</th>\n",
       "      <th>Accuracy Score</th>\n",
       "      <th>NoAlarm Accuracy</th>\n",
       "      <th>Alarm Accuracy</th>\n",
       "      <th>Complexity Parameter</th>\n",
       "    </tr>\n",
       "  </thead>\n",
       "  <tbody>\n",
       "    <tr>\n",
       "      <th>1</th>\n",
       "      <td>Logistic Regression</td>\n",
       "      <td>0.8948</td>\n",
       "      <td>0.7646</td>\n",
       "      <td>0.9471</td>\n",
       "      <td></td>\n",
       "    </tr>\n",
       "    <tr>\n",
       "      <th>2</th>\n",
       "      <td>KNN</td>\n",
       "      <td>0.9987</td>\n",
       "      <td>0.9962</td>\n",
       "      <td>0.9996</td>\n",
       "      <td>K = 1</td>\n",
       "    </tr>\n",
       "    <tr>\n",
       "      <th>3</th>\n",
       "      <td>Decision Tree</td>\n",
       "      <td>0.9994</td>\n",
       "      <td>0.9984</td>\n",
       "      <td>0.9998</td>\n",
       "      <td></td>\n",
       "    </tr>\n",
       "    <tr>\n",
       "      <th>4</th>\n",
       "      <td>Random Forest</td>\n",
       "      <td>0.9997</td>\n",
       "      <td>0.9989</td>\n",
       "      <td>1.0000</td>\n",
       "      <td></td>\n",
       "    </tr>\n",
       "    <tr>\n",
       "      <th>5</th>\n",
       "      <td>ADA Boost</td>\n",
       "      <td>0.9994</td>\n",
       "      <td>0.9982</td>\n",
       "      <td>0.9999</td>\n",
       "      <td></td>\n",
       "    </tr>\n",
       "    <tr>\n",
       "      <th>6</th>\n",
       "      <td>Gradient Boost</td>\n",
       "      <td>0.9997</td>\n",
       "      <td>0.9993</td>\n",
       "      <td>0.9999</td>\n",
       "      <td></td>\n",
       "    </tr>\n",
       "  </tbody>\n",
       "</table>\n",
       "</div>"
      ],
      "text/plain": [
       "                 Model  Accuracy Score  NoAlarm Accuracy  Alarm Accuracy  \\\n",
       "1  Logistic Regression          0.8948            0.7646          0.9471   \n",
       "2                  KNN          0.9987            0.9962          0.9996   \n",
       "3        Decision Tree          0.9994            0.9984          0.9998   \n",
       "4        Random Forest          0.9997            0.9989          1.0000   \n",
       "5            ADA Boost          0.9994            0.9982          0.9999   \n",
       "6       Gradient Boost          0.9997            0.9993          0.9999   \n",
       "\n",
       "  Complexity Parameter  \n",
       "1                       \n",
       "2                K = 1  \n",
       "3                       \n",
       "4                       \n",
       "5                       \n",
       "6                       "
      ]
     },
     "execution_count": 628,
     "metadata": {},
     "output_type": "execute_result"
    }
   ],
   "source": [
    "storescore(ytest,yhatgb,'Gradient Boost','')"
   ]
  }
 ],
 "metadata": {
  "kernelspec": {
   "display_name": "Python 3",
   "language": "python",
   "name": "python3"
  },
  "language_info": {
   "codemirror_mode": {
    "name": "ipython",
    "version": 3
   },
   "file_extension": ".py",
   "mimetype": "text/x-python",
   "name": "python",
   "nbconvert_exporter": "python",
   "pygments_lexer": "ipython3",
   "version": "3.8.5"
  }
 },
 "nbformat": 4,
 "nbformat_minor": 4
}
